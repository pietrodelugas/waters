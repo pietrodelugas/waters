{
 "cells": [
  {
   "cell_type": "code",
   "execution_count": 1,
   "id": "0c9e143a",
   "metadata": {},
   "outputs": [],
   "source": [
    "import numpy as np\n",
    "from collections import deque "
   ]
  },
  {
   "cell_type": "code",
   "execution_count": 2,
   "id": "75cbb45b",
   "metadata": {},
   "outputs": [],
   "source": [
    "def get_lines(fname):\n",
    "    values: dict = get_values(fname)\n",
    "    positions: list = get_positions(fname)\n",
    "    with open(\"control_section\",\"r\") as f:\n",
    "        l = f.readlines() \n",
    "    lines = [_.format(**values) for _ in l]\n",
    "    with open(\"system_section\",\"r\") as f:\n",
    "        l = f.readlines()\n",
    "    lines+=[_.format(**values) for _ in l]\n",
    "    with open(\"electrons_section\",\"r\") as f:\n",
    "        l = f.readlines()\n",
    "    lines+=[_.format(**values) for _ in l]\n",
    "    with open(\"cards\",\"r\") as f: \n",
    "        l=f.readlines() \n",
    "    i0=0 \n",
    "    s = deque(filter(lambda e: \"ATOMIC_POSITIONS\" in e,l),maxlen=1)[0]\n",
    "    i1 = l.index(s)\n",
    "    s = deque(filter(lambda e: \"K_POINTS\" in e, l),maxlen=1)[0]\n",
    "    i2 = l.index(s)\n",
    "    lines += l[i0:i1+1]\n",
    "    ll = lambda pos: (f\"{_[0]}   {_[1][0]:12.5f}   {_[1][1]:12.5f} {_[1][2]:12.5f} \\n\" for _ in pos)\n",
    "    lines+=list(deque(ll(positions)))\n",
    "    lines+=l[i2:i2+1]\n",
    "    return lines \n",
    "\n",
    "def get_values(fname):\n",
    "    calculation_id: str = fname.replace('.angst','')\n",
    "    with open(fname,'r') as f:\n",
    "        alat: float = float(next(f).split()[2])\n",
    "        nat:  int   = int (next(f).split()[2])\n",
    "    return {'calculation_id':calculation_id,'alat_angst':alat, 'nat':nat}\n",
    "\n",
    "\n",
    "def xyzline(s):\n",
    "    f=s.split()\n",
    "    if len(f) < 4:\n",
    "        return None\n",
    "    symb=f[0]\n",
    "    coords=np.array([float(x) for x in f[1:4]])\n",
    "    return (symb, coords)\n",
    "\n",
    "\n",
    "def get_positions(fname):\n",
    "    with open(fname,\"r\") as f:\n",
    "        res= [_ for _ in filter(None,(xyzline(__)for __ in f))]\n",
    "    return res\n",
    "\n",
    "def write_input(fname):\n",
    "    inpfile: str = fname.replace('angst','in')\n",
    "    with open(inpfile,'w') as fin:\n",
    "        deque ((fin.write(_) for _ in get_lines(fname)))\n"
   ]
  },
  {
   "cell_type": "code",
   "execution_count": 13,
   "metadata": {},
   "outputs": [],
   "source": [
    "write_input('011.angst')\n",
    "\n"
   ]
  },
  {
   "cell_type": "code",
   "execution_count": null,
   "metadata": {},
   "outputs": [],
   "source": []
  }
 ],
 "metadata": {
  "kernelspec": {
   "name": "python3",
   "display_name": "Python 3.8.5 64-bit"
  },
  "interpreter": {
   "hash": "31f2aee4e71d21fbe5cf8b01ff0e069b9275f58929596ceb00d14d90e3e16cd6"
  }
 },
 "nbformat": 4,
 "nbformat_minor": 5
}