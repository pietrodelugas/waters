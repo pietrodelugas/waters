{
 "cells": [
  {
   "cell_type": "code",
   "execution_count": 6,
   "metadata": {},
   "outputs": [],
   "source": [
    "import numpy as np\n",
    "from collections import deque\n",
    "\n",
    "def xyzline(s):\n",
    "    f=s.split()\n",
    "    if len(f) < 4:\n",
    "        return None\n",
    "    symb=f[0]\n",
    "    coords=np.array([float(x) for x in f[1:4]])\n",
    "    return (symb, coords)\n",
    "\n",
    "with open(\"003.xyz\",'r') as f:\n",
    "    p = [_ for _ in filter(None,(xyzline(__) for __ in f ))]\n",
    " \n"
   ]
  },
  {
   "cell_type": "code",
   "execution_count": 16,
   "metadata": {},
   "outputs": [],
   "source": [
    "def diams(positions):\n",
    "    l = np.array( [ \n",
    "        min((_[1][i] for _ in positions))\n",
    "         for i in (0,1,2) \n",
    "         ])\n",
    "    r = np.array( [ \n",
    "        max((_[1][i] for _ in positions))\n",
    "         for i in (0,1,2) \n",
    "         ])\n",
    "    s =  np.array( [ \n",
    "        sum((_[1][i] for _ in positions))\n",
    "         for i in (0,1,2) \n",
    "         ])\n",
    "    return max(r-l)+2.0,s/len(positions)\n",
    "\n",
    "def shiftpos(positions,shift):\n",
    "    return [((_[0],_[1]-shift)) for _ in positions]\n",
    "\n",
    "def write_pos(fname, fout=None):\n",
    "    with open(fname) as f:\n",
    "        positions = [_ for _ in filter(None,(xyzline(__) for __ in f ))]\n",
    "    d,s = diams(positions)\n",
    "    positions = shiftpos(positions=positions, shift=s)\n",
    "    l0 = f\"alat = {round(d,3)} \" \n",
    "    l1 = f\"nat  = {len(positions)} \" \n",
    "    ll = lambda pos: (f\"{_[0]}   {_[1][0]:12.5f}   {_[1][1]:12.5f} {_[1][2]:12.5f} \" for _ in pos)\n",
    "    if fout is not None:\n",
    "        with open(fout,\"w\") as f:\n",
    "            f.write('\\n'.join([l0,l1]+list(deque(ll(positions)))))\n",
    "\n",
    "def diams_from_xyz(fname):\n",
    "    with open(fname) as f:\n",
    "        positions = [_ for _ in filter(None,(xyzline(__) for __ in f ))]\n",
    "    d,s = diams(positions)\n",
    "    return d,s"
   ]
  },
  {
   "cell_type": "code",
   "execution_count": 18,
   "metadata": {},
   "outputs": [
    {
     "output_type": "stream",
     "name": "stdout",
     "text": [
      "74.8286\n",
      "89.00070000000002\n",
      "34.3836\n",
      "5.502200000000002\n",
      "82.968\n",
      "80.74870000000001\n",
      "60.95729999999999\n",
      "73.00949999999999\n",
      "40.1446\n",
      "11.425699999999992\n",
      "96.38510000000001\n",
      "19.9332\n",
      "13.7547\n",
      "98.7352\n",
      "17.296000000000006\n",
      "24.618799999999993\n",
      "42.397499999999994\n",
      "38.290000000000006\n",
      "15.952399999999997\n",
      "59.0205\n",
      "31.9962\n",
      "50.9829\n",
      "86.8968\n",
      "67.03330000000001\n",
      "36.3818\n",
      "27.8669\n",
      "70.26729999999999\n",
      "21.937200000000004\n",
      "62.36149999999999\n",
      "77.13690000000001\n",
      "78.6591\n",
      "44.605500000000006\n",
      "48.3506\n",
      "1.5842000000000098\n",
      "52.5393\n",
      "100.5572\n",
      "92.9906\n",
      "26.9264\n",
      "7.295199999999994\n",
      "68.1794\n",
      "31.344799999999992\n",
      "9.595100000000002\n",
      "84.2356\n",
      "94.5753\n",
      "64.821\n",
      "46.75319999999999\n",
      "90.6337\n",
      "57.158699999999996\n",
      "54.51530000000001\n"
     ]
    },
    {
     "output_type": "execute_result",
     "data": {
      "text/plain": [
       "deque([])"
      ]
     },
     "metadata": {},
     "execution_count": 18
    }
   ],
   "source": [
    "from glob import glob\n",
    "deque ((write_pos(filo,filo.replace(\"xyz\",\"angst\")) for filo in glob(\"*.xyz\")),maxlen=0)\n"
   ]
  },
  {
   "cell_type": "code",
   "execution_count": 17,
   "metadata": {},
   "outputs": [
    {
     "output_type": "stream",
     "name": "stdout",
     "text": [
      "7.295199999999994\n"
     ]
    },
    {
     "output_type": "execute_result",
     "data": {
      "text/plain": [
       "(9.295199999999994, array([100.17499667, 100.1048    ,  99.86255667]))"
      ]
     },
     "metadata": {},
     "execution_count": 17
    }
   ],
   "source": [
    "diams_from_xyz('004.xyz')"
   ]
  },
  {
   "cell_type": "code",
   "execution_count": null,
   "metadata": {},
   "outputs": [],
   "source": []
  }
 ],
 "metadata": {
  "kernelspec": {
   "name": "python3",
   "display_name": "Python 3.8.5 64-bit ('cov': venv)"
  },
  "interpreter": {
   "hash": "9b208f86970d65231288333de920490e7e9a7675fca62aaf34e195cdb7e23be6"
  }
 },
 "nbformat": 4,
 "nbformat_minor": 4
}