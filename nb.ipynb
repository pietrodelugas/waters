{
 "cells": [
  {
   "cell_type": "code",
   "execution_count": 1,
   "metadata": {},
   "outputs": [],
   "source": [
    "import numpy as np\n",
    "from collections import deque\n",
    "\n",
    "def xyzline(s):\n",
    "    f=s.split()\n",
    "    if len(f) < 4:\n",
    "        return None\n",
    "    symb=f[0]\n",
    "    coords=np.array([float(x) for x in f[1:4]])\n",
    "    return (symb, coords)\n",
    "\n",
    "with open(\"003.xyz\",'r') as f:\n",
    "    p = [_ for _ in filter(None,(xyzline(__) for __ in f ))]\n",
    " \n"
   ]
  },
  {
   "cell_type": "code",
   "execution_count": 2,
   "metadata": {},
   "outputs": [],
   "source": [
    "def diams(positions):\n",
    "    l = np.array( [ \n",
    "        min((_[1][i] for _ in positions))\n",
    "         for i in (0,1,2) \n",
    "         ])\n",
    "    r = np.array( [ \n",
    "        max((_[1][i] for _ in positions))\n",
    "         for i in (0,1,2) \n",
    "         ])\n",
    "    s =  np.array( [ \n",
    "        sum((_[1][i] for _ in positions))\n",
    "         for i in (0,1,2) \n",
    "         ])\n",
    "    return max(r-l)+2.0,s/len(p)\n",
    "\n",
    "def shiftpos(positions,shift):\n",
    "    return [((_[0],_[1]-shift)) for _ in positions]\n",
    "\n",
    "def write_pos(fname, fout=None):\n",
    "    with open(fname) as f:\n",
    "        positions = [_ for _ in filter(None,(xyzline(__) for __ in f ))]\n",
    "    d,s = diams(positions)\n",
    "    positions = shiftpos(positions=positions, shift=s)\n",
    "    l0 = f\"alat = {round(d,3)} \" \n",
    "    l1 = f\"nat  = {len(positions)} \" \n",
    "    ll = lambda pos: (f\"{_[0]}   {_[1][0]:12.5f}   {_[1][1]:12.5f} {_[1][2]:12.5f} \" for _ in pos)\n",
    "    if fout is not None:\n",
    "        with open(fout,\"w\") as f:\n",
    "            f.write('\\n'.join([l0,l1]+list(deque(ll(positions)))))\n",
    "    "
   ]
  },
  {
   "cell_type": "code",
   "execution_count": 9,
   "metadata": {},
   "outputs": [
    {
     "output_type": "execute_result",
     "data": {
      "text/plain": [
       "deque([])"
      ]
     },
     "metadata": {},
     "execution_count": 9
    }
   ],
   "source": [
    "from glob import glob\n",
    "deque ((write_pos(filo,filo.replace(\"xyz\",\"angst\")) for filo in glob(\"*.xyz\")),maxlen=0)\n"
   ]
  },
  {
   "cell_type": "code",
   "execution_count": null,
   "metadata": {},
   "outputs": [],
   "source": []
  }
 ],
 "metadata": {
  "kernelspec": {
   "name": "python3",
   "display_name": "Python 3.8.5 64-bit ('cov': venv)"
  },
  "interpreter": {
   "hash": "9b208f86970d65231288333de920490e7e9a7675fca62aaf34e195cdb7e23be6"
  }
 },
 "nbformat": 4,
 "nbformat_minor": 4
}